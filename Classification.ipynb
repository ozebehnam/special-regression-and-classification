{
 "cells": [
  {
   "cell_type": "code",
   "execution_count": 1,
   "id": "7d6342ed",
   "metadata": {},
   "outputs": [],
   "source": [
    "import tensorflow as tf\n",
    "import numpy as np\n",
    "import pandas as pd\n",
    "import matplotlib.pyplot as plt"
   ]
  },
  {
   "cell_type": "code",
   "execution_count": 2,
   "id": "db90e2cb",
   "metadata": {},
   "outputs": [],
   "source": [
    "(train_data, train_labels), (test_data, test_labels) = tf.keras.datasets.mnist.load_data()"
   ]
  },
  {
   "cell_type": "code",
   "execution_count": 3,
   "id": "0b33d250",
   "metadata": {},
   "outputs": [
    {
     "data": {
      "text/plain": [
       "(numpy.ndarray, (60000, 28, 28), dtype('uint8'))"
      ]
     },
     "execution_count": 3,
     "metadata": {},
     "output_type": "execute_result"
    }
   ],
   "source": [
    "type(train_data), train_data.shape, train_data.dtype"
   ]
  },
  {
   "cell_type": "code",
   "execution_count": 4,
   "id": "57a8de32",
   "metadata": {},
   "outputs": [
    {
     "data": {
      "text/plain": [
       "(0, 255)"
      ]
     },
     "execution_count": 4,
     "metadata": {},
     "output_type": "execute_result"
    }
   ],
   "source": [
    "train_data.min(), train_data.max()"
   ]
  },
  {
   "cell_type": "code",
   "execution_count": 5,
   "id": "0074b472",
   "metadata": {},
   "outputs": [
    {
     "data": {
      "text/plain": [
       "(0, 255)"
      ]
     },
     "execution_count": 5,
     "metadata": {},
     "output_type": "execute_result"
    }
   ],
   "source": [
    "test_data.min(), test_data.max()"
   ]
  },
  {
   "cell_type": "code",
   "execution_count": 6,
   "id": "17c60982",
   "metadata": {
    "scrolled": true
   },
   "outputs": [
    {
     "data": {
      "text/plain": [
       "<matplotlib.image.AxesImage at 0x1a8d79c58c8>"
      ]
     },
     "execution_count": 6,
     "metadata": {},
     "output_type": "execute_result"
    },
    {
     "data": {
      "image/png": "[encoded data removed]",
      "text/plain": [
       "<Figure size 432x288 with 1 Axes>"
      ]
     },
     "metadata": {
      "needs_background": "light"
     },
     "output_type": "display_data"
    }
   ],
   "source": [
    "plt.imshow(train_data[0])"
   ]
  },
  {
   "cell_type": "code",
   "execution_count": 7,
   "id": "83068b12",
   "metadata": {},
   "outputs": [
    {
     "data": {
      "text/plain": [
       "5"
      ]
     },
     "execution_count": 7,
     "metadata": {},
     "output_type": "execute_result"
    }
   ],
   "source": [
    "train_labels[0]"
   ]
  },
  {
   "cell_type": "code",
   "execution_count": 8,
   "id": "608b1196",
   "metadata": {},
   "outputs": [
    {
     "data": {
      "text/plain": [
       "(60000, 784)"
      ]
     },
     "execution_count": 8,
     "metadata": {},
     "output_type": "execute_result"
    }
   ],
   "source": [
    "train_data = np.reshape(train_data, (-1, 28 * 28))\n",
    "train_data.shape"
   ]
  },
  {
   "cell_type": "code",
   "execution_count": 9,
   "id": "4e433a6f",
   "metadata": {},
   "outputs": [
    {
     "data": {
      "text/plain": [
       "(10000, 784)"
      ]
     },
     "execution_count": 9,
     "metadata": {},
     "output_type": "execute_result"
    }
   ],
   "source": [
    "test_data = np.reshape(test_data, (-1, 28 * 28))\n",
    "test_data.shape"
   ]
  },
  {
   "cell_type": "code",
   "execution_count": 10,
   "id": "ffb2e3a3",
   "metadata": {},
   "outputs": [],
   "source": [
    "from tensorflow.keras.utils import to_categorical"
   ]
  },
  {
   "cell_type": "code",
   "execution_count": 11,
   "id": "b8929267",
   "metadata": {},
   "outputs": [
    {
     "data": {
      "text/plain": [
       "(60000, 10)"
      ]
     },
     "execution_count": 11,
     "metadata": {},
     "output_type": "execute_result"
    }
   ],
   "source": [
    "train_labels = to_categorical(train_labels, num_classes=10)\n",
    "train_labels.shape"
   ]
  },
  {
   "cell_type": "code",
   "execution_count": 12,
   "id": "8acba8d0",
   "metadata": {},
   "outputs": [
    {
     "data": {
      "text/plain": [
       "((10000, 10), dtype('float32'))"
      ]
     },
     "execution_count": 12,
     "metadata": {},
     "output_type": "execute_result"
    }
   ],
   "source": [
    "test_labels = to_categorical(test_labels, num_classes=10)\n",
    "test_labels.shape, test_labels.dtype"
   ]
  },
  {
   "cell_type": "code",
   "execution_count": 13,
   "id": "c0ccd545",
   "metadata": {
    "scrolled": true
   },
   "outputs": [
    {
     "data": {
      "text/plain": [
       "array([0., 0., 0., 0., 0., 1., 0., 0., 0., 0.], dtype=float32)"
      ]
     },
     "execution_count": 13,
     "metadata": {},
     "output_type": "execute_result"
    }
   ],
   "source": [
    "train_labels[0]"
   ]
  },
  {
   "cell_type": "code",
   "execution_count": 14,
   "id": "0eb95bd6",
   "metadata": {},
   "outputs": [
    {
     "data": {
      "text/plain": [
       "(0, 255)"
      ]
     },
     "execution_count": 14,
     "metadata": {},
     "output_type": "execute_result"
    }
   ],
   "source": [
    "train_data.min(), train_data.max()"
   ]
  },
  {
   "cell_type": "code",
   "execution_count": 15,
   "id": "d0335863",
   "metadata": {},
   "outputs": [],
   "source": [
    "train_data = train_data.astype('float32') / 255.\n",
    "test_data = test_data.astype('float32') / 255."
   ]
  },
  {
   "cell_type": "code",
   "execution_count": 16,
   "id": "c630a26e",
   "metadata": {},
   "outputs": [
    {
     "data": {
      "text/plain": [
       "(0.0, 1.0, dtype('float32'))"
      ]
     },
     "execution_count": 16,
     "metadata": {},
     "output_type": "execute_result"
    }
   ],
   "source": [
    "train_data.min(), train_data.max(), train_data.dtype"
   ]
  },
  {
   "cell_type": "code",
   "execution_count": 17,
   "id": "4a05378c",
   "metadata": {},
   "outputs": [
    {
     "data": {
      "text/plain": [
       "((30000, 784), (30000, 10))"
      ]
     },
     "execution_count": 17,
     "metadata": {},
     "output_type": "execute_result"
    }
   ],
   "source": [
    "train_data = train_data[:30000]\n",
    "train_labels = train_labels[:30000]\n",
    "train_data.shape, train_labels.shape"
   ]
  },
  {
   "cell_type": "code",
   "execution_count": 18,
   "id": "349c6549",
   "metadata": {},
   "outputs": [],
   "source": [
    "from tensorflow.keras.layers import Input, Dense, Dropout\n",
    "from tensorflow.keras.models import Model"
   ]
  },
  {
   "cell_type": "code",
   "execution_count": 19,
   "id": "d0421475",
   "metadata": {
    "scrolled": true
   },
   "outputs": [
    {
     "name": "stdout",
     "output_type": "stream",
     "text": [
      "Model: \"functional_1\"\n",
      "_________________________________________________________________\n",
      "Layer (type)                 Output Shape              Param #   \n",
      "=================================================================\n",
      "input_1 (InputLayer)         [(None, 784)]             0         \n",
      "_________________________________________________________________\n",
      "dense (Dense)                (None, 512)               401920    \n",
      "_________________________________________________________________\n",
      "dropout (Dropout)            (None, 512)               0         \n",
      "_________________________________________________________________\n",
      "dense_1 (Dense)              (None, 128)               65664     \n",
      "_________________________________________________________________\n",
      "dropout_1 (Dropout)          (None, 128)               0         \n",
      "_________________________________________________________________\n",
      "dense_2 (Dense)              (None, 10)                1290      \n",
      "=================================================================\n",
      "Total params: 468,874\n",
      "Trainable params: 468,874\n",
      "Non-trainable params: 0\n",
      "_________________________________________________________________\n"
     ]
    }
   ],
   "source": [
    "input_layer = Input(shape=(784,))\n",
    "\n",
    "h1 = Dense(units=512, activation='relu')(input_layer)\n",
    "\n",
    "d1 = Dropout(0.25)(h1)\n",
    "\n",
    "h2 = Dense(units=128, activation='relu')(d1)\n",
    "\n",
    "d2 = Dropout(0.5)(h2)\n",
    "\n",
    "output_layer = Dense(units=10, activation='softmax')(d2)\n",
    "\n",
    "classification_model = Model(input_layer, output_layer)\n",
    "\n",
    "classification_model.summary()"
   ]
  },
  {
   "cell_type": "code",
   "execution_count": 20,
   "id": "b33d2a6c",
   "metadata": {},
   "outputs": [],
   "source": [
    "classification_model.compile(optimizer='adam', loss='categorical_crossentropy',\n",
    "                             metrics=['accuracy'])"
   ]
  },
  {
   "cell_type": "code",
   "execution_count": 21,
   "id": "fdbd2a5f",
   "metadata": {},
   "outputs": [],
   "source": [
    "from tensorflow.keras.callbacks import EarlyStopping"
   ]
  },
  {
   "cell_type": "code",
   "execution_count": 22,
   "id": "3f5a82bc",
   "metadata": {},
   "outputs": [],
   "source": [
    "early_stop = EarlyStopping(monitor='val_loss', patience=100,\n",
    "                           mode='min', restore_best_weights=True)"
   ]
  },
  {
   "cell_type": "code",
   "execution_count": 23,
   "id": "14c831b1",
   "metadata": {
    "scrolled": true
   },
   "outputs": [
    {
     "name": "stdout",
     "output_type": "stream",
     "text": [
      "Epoch 1/40\n",
      "704/704 [==============================] - 2s 3ms/step - loss: 0.4539 - accuracy: 0.8637 - val_loss: 0.2054 - val_accuracy: 0.9345\n",
      "Epoch 2/40\n",
      "704/704 [==============================] - 2s 3ms/step - loss: 0.2016 - accuracy: 0.9424 - val_loss: 0.1509 - val_accuracy: 0.9516\n",
      "Epoch 3/40\n",
      "704/704 [==============================] - 2s 3ms/step - loss: 0.1482 - accuracy: 0.9556 - val_loss: 0.1354 - val_accuracy: 0.9588\n",
      "Epoch 4/40\n",
      "704/704 [==============================] - 2s 3ms/step - loss: 0.1135 - accuracy: 0.9663 - val_loss: 0.1159 - val_accuracy: 0.9649\n",
      "Epoch 5/40\n",
      "704/704 [==============================] - 2s 3ms/step - loss: 0.0930 - accuracy: 0.9732 - val_loss: 0.1172 - val_accuracy: 0.9677\n",
      "Epoch 6/40\n",
      "704/704 [==============================] - 2s 3ms/step - loss: 0.0853 - accuracy: 0.9735 - val_loss: 0.1320 - val_accuracy: 0.9643\n",
      "Epoch 7/40\n",
      "704/704 [==============================] - 2s 3ms/step - loss: 0.0743 - accuracy: 0.9770 - val_loss: 0.1166 - val_accuracy: 0.9691\n",
      "Epoch 8/40\n",
      "704/704 [==============================] - 2s 3ms/step - loss: 0.0636 - accuracy: 0.9796 - val_loss: 0.1169 - val_accuracy: 0.9727\n",
      "Epoch 9/40\n",
      "704/704 [==============================] - 2s 3ms/step - loss: 0.0565 - accuracy: 0.9823 - val_loss: 0.1253 - val_accuracy: 0.9691\n",
      "Epoch 10/40\n",
      "704/704 [==============================] - 2s 3ms/step - loss: 0.0557 - accuracy: 0.9824 - val_loss: 0.1333 - val_accuracy: 0.9719\n",
      "Epoch 11/40\n",
      "704/704 [==============================] - 2s 3ms/step - loss: 0.0442 - accuracy: 0.9855 - val_loss: 0.1358 - val_accuracy: 0.9679\n",
      "Epoch 12/40\n",
      "704/704 [==============================] - 2s 3ms/step - loss: 0.0462 - accuracy: 0.9856 - val_loss: 0.1206 - val_accuracy: 0.9721\n",
      "Epoch 13/40\n",
      "704/704 [==============================] - 2s 3ms/step - loss: 0.0424 - accuracy: 0.9865 - val_loss: 0.1309 - val_accuracy: 0.9727\n",
      "Epoch 14/40\n",
      "704/704 [==============================] - 2s 3ms/step - loss: 0.0411 - accuracy: 0.9874 - val_loss: 0.1201 - val_accuracy: 0.9719\n",
      "Epoch 15/40\n",
      "704/704 [==============================] - 2s 3ms/step - loss: 0.0396 - accuracy: 0.9867 - val_loss: 0.1231 - val_accuracy: 0.9736\n",
      "Epoch 16/40\n",
      "704/704 [==============================] - 2s 3ms/step - loss: 0.0358 - accuracy: 0.9892 - val_loss: 0.1494 - val_accuracy: 0.9709\n",
      "Epoch 17/40\n",
      "704/704 [==============================] - 2s 3ms/step - loss: 0.0310 - accuracy: 0.9906 - val_loss: 0.1774 - val_accuracy: 0.9689\n",
      "Epoch 18/40\n",
      "704/704 [==============================] - 2s 3ms/step - loss: 0.0379 - accuracy: 0.9880 - val_loss: 0.1556 - val_accuracy: 0.9697\n",
      "Epoch 19/40\n",
      "704/704 [==============================] - 2s 3ms/step - loss: 0.0316 - accuracy: 0.9900 - val_loss: 0.1533 - val_accuracy: 0.9711\n",
      "Epoch 20/40\n",
      "704/704 [==============================] - 2s 3ms/step - loss: 0.0362 - accuracy: 0.9893 - val_loss: 0.1930 - val_accuracy: 0.9660\n",
      "Epoch 21/40\n",
      "704/704 [==============================] - 2s 3ms/step - loss: 0.0310 - accuracy: 0.9899 - val_loss: 0.1583 - val_accuracy: 0.9717\n",
      "Epoch 22/40\n",
      "704/704 [==============================] - 2s 3ms/step - loss: 0.0277 - accuracy: 0.9908 - val_loss: 0.1686 - val_accuracy: 0.9736\n",
      "Epoch 23/40\n",
      "704/704 [==============================] - 2s 3ms/step - loss: 0.0271 - accuracy: 0.9915 - val_loss: 0.1412 - val_accuracy: 0.9737\n",
      "Epoch 24/40\n",
      "704/704 [==============================] - 2s 3ms/step - loss: 0.0259 - accuracy: 0.9925 - val_loss: 0.1571 - val_accuracy: 0.9735\n",
      "Epoch 25/40\n",
      "704/704 [==============================] - 2s 3ms/step - loss: 0.0262 - accuracy: 0.9920 - val_loss: 0.1818 - val_accuracy: 0.9700\n",
      "Epoch 26/40\n",
      "704/704 [==============================] - 2s 3ms/step - loss: 0.0264 - accuracy: 0.9926 - val_loss: 0.1787 - val_accuracy: 0.9725\n",
      "Epoch 27/40\n",
      "704/704 [==============================] - 2s 3ms/step - loss: 0.0322 - accuracy: 0.9908 - val_loss: 0.1671 - val_accuracy: 0.9729\n",
      "Epoch 28/40\n",
      "704/704 [==============================] - 2s 3ms/step - loss: 0.0288 - accuracy: 0.9908 - val_loss: 0.1660 - val_accuracy: 0.9759\n",
      "Epoch 29/40\n",
      "704/704 [==============================] - 2s 3ms/step - loss: 0.0256 - accuracy: 0.9924 - val_loss: 0.1677 - val_accuracy: 0.9740\n",
      "Epoch 30/40\n",
      "704/704 [==============================] - 2s 3ms/step - loss: 0.0259 - accuracy: 0.9927 - val_loss: 0.2125 - val_accuracy: 0.9645\n",
      "Epoch 31/40\n",
      "704/704 [==============================] - 2s 3ms/step - loss: 0.0203 - accuracy: 0.9937 - val_loss: 0.1951 - val_accuracy: 0.9723\n",
      "Epoch 32/40\n",
      "704/704 [==============================] - 2s 3ms/step - loss: 0.0256 - accuracy: 0.9929 - val_loss: 0.1884 - val_accuracy: 0.9736\n",
      "Epoch 33/40\n",
      "704/704 [==============================] - 2s 3ms/step - loss: 0.0263 - accuracy: 0.9927 - val_loss: 0.1883 - val_accuracy: 0.9716\n",
      "Epoch 34/40\n",
      "704/704 [==============================] - 2s 3ms/step - loss: 0.0176 - accuracy: 0.9949 - val_loss: 0.1983 - val_accuracy: 0.9728\n",
      "Epoch 35/40\n",
      "704/704 [==============================] - 2s 3ms/step - loss: 0.0226 - accuracy: 0.9935 - val_loss: 0.1758 - val_accuracy: 0.9752\n",
      "Epoch 36/40\n",
      "704/704 [==============================] - 3s 4ms/step - loss: 0.0246 - accuracy: 0.9932 - val_loss: 0.2022 - val_accuracy: 0.9721\n",
      "Epoch 37/40\n",
      "704/704 [==============================] - 3s 4ms/step - loss: 0.0278 - accuracy: 0.9922 - val_loss: 0.1920 - val_accuracy: 0.9740\n",
      "Epoch 38/40\n",
      "704/704 [==============================] - 2s 3ms/step - loss: 0.0232 - accuracy: 0.9929 - val_loss: 0.2173 - val_accuracy: 0.9705\n",
      "Epoch 39/40\n",
      "704/704 [==============================] - 2s 4ms/step - loss: 0.0211 - accuracy: 0.9944 - val_loss: 0.2009 - val_accuracy: 0.9749\n",
      "Epoch 40/40\n",
      "704/704 [==============================] - 3s 4ms/step - loss: 0.0243 - accuracy: 0.9934 - val_loss: 0.1780 - val_accuracy: 0.9767\n"
     ]
    },
    {
     "data": {
      "text/plain": [
       "<tensorflow.python.keras.callbacks.History at 0x1a8d7c441c8>"
      ]
     },
     "execution_count": 23,
     "metadata": {},
     "output_type": "execute_result"
    }
   ],
   "source": [
    "classification_model.fit(x=train_data, y=train_labels, epochs=40, batch_size=32,\n",
    "                         validation_split=0.25, callbacks=[early_stop])"
   ]
  },
  {
   "cell_type": "code",
   "execution_count": 24,
   "id": "23379bfe",
   "metadata": {
    "scrolled": true
   },
   "outputs": [
    {
     "data": {
      "text/plain": [
       "<AxesSubplot:>"
      ]
     },
     "execution_count": 24,
     "metadata": {},
     "output_type": "execute_result"
    },
    {
     "data": {
      "image/png": "[encoded data removed]",
      "text/plain": [
       "<Figure size 432x288 with 1 Axes>"
      ]
     },
     "metadata": {
      "needs_background": "light"
     },
     "output_type": "display_data"
    }
   ],
   "source": [
    "model_history = pd.DataFrame({'loss': classification_model.history.history['loss'],\n",
    "                              'val_loss': classification_model.history.history['val_loss']})\n",
    "model_history.plot()"
   ]
  },
  {
   "cell_type": "code",
   "execution_count": 25,
   "id": "b00f62f4",
   "metadata": {
    "scrolled": false
   },
   "outputs": [
    {
     "data": {
      "text/plain": [
       "<AxesSubplot:>"
      ]
     },
     "execution_count": 25,
     "metadata": {},
     "output_type": "execute_result"
    },
    {
     "data": {
      "image/png": "[encoded data removed]",
      "text/plain": [
       "<Figure size 432x288 with 1 Axes>"
      ]
     },
     "metadata": {
      "needs_background": "light"
     },
     "output_type": "display_data"
    }
   ],
   "source": [
    "model_history = pd.DataFrame({'accuracy': classification_model.history.history['accuracy'],\n",
    "                              'val_accuracy': classification_model.history.history['val_accuracy']})\n",
    "model_history.plot()"
   ]
  },
  {
   "cell_type": "code",
   "execution_count": 26,
   "id": "85c513e3",
   "metadata": {},
   "outputs": [
    {
     "name": "stdout",
     "output_type": "stream",
     "text": [
      "313/313 [==============================] - 0s 1ms/step - loss: 0.1657 - accuracy: 0.9767\n"
     ]
    },
    {
     "data": {
      "text/plain": [
       "[0.1656782031059265, 0.9767000079154968]"
      ]
     },
     "execution_count": 26,
     "metadata": {},
     "output_type": "execute_result"
    }
   ],
   "source": [
    "classification_model.evaluate(x=test_data, y=test_labels)"
   ]
  },
  {
   "cell_type": "code",
   "execution_count": 31,
   "id": "cfa1419f",
   "metadata": {},
   "outputs": [
    {
     "name": "stdout",
     "output_type": "stream",
     "text": [
      "7\n",
      "7\n"
     ]
    }
   ],
   "source": [
    "print(np.argmax(classification_model.predict(np.reshape(test_data[0], (1, 784)))))\n",
    "print(np.argmax(test_labels[0]))"
   ]
  }
 ],
 "metadata": {
  "kernelspec": {
   "display_name": "Python 3 (ipykernel)",
   "language": "python",
   "name": "python3"
  },
  "language_info": {
   "codemirror_mode": {
    "name": "ipython",
    "version": 3
   },
   "file_extension": ".py",
   "mimetype": "text/x-python",
   "name": "python",
   "nbconvert_exporter": "python",
   "pygments_lexer": "ipython3",
   "version": "3.7.13"
  }
 },
 "nbformat": 4,
 "nbformat_minor": 5
}
